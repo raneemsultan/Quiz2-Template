{
  "nbformat": 4,
  "nbformat_minor": 0,
  "metadata": {
    "colab": {
      "name": "Quiz2-CSEN1095-W21-Template.ipynb",
      "provenance": [],
      "collapsed_sections": []
    },
    "kernelspec": {
      "name": "python3",
      "display_name": "Python 3"
    },
    "language_info": {
      "name": "python"
    }
  },
  "cells": [
    {
      "cell_type": "markdown",
      "source": [
        "# Duration: 30 minutes"
      ],
      "metadata": {
        "id": "pERO5IDytcep"
      }
    },
    {
      "cell_type": "markdown",
      "source": [
        "# Question 1"
      ],
      "metadata": {
        "id": "PCOCsi7zbsSx"
      }
    },
    {
      "cell_type": "markdown",
      "source": [
        "## Part A"
      ],
      "metadata": {
        "id": "uTFl_FSdbvmK"
      }
    },
    {
      "cell_type": "markdown",
      "source": [
        "Use **the most** appropriate encoding method for each of the following attributes from the Customers dataset (https://raw.githubusercontent.com/raneemsultan/Quiz2-Template/main/Customers.csv):\n",
        "\n",
        "\n",
        "1.   Store Branch\n",
        "2.   Review\n",
        "\n",
        "The final dataframe should contain:\tCustomer_ID,\tAge,\tProduct_ID and the encoded columns."
      ],
      "metadata": {
        "id": "IpnpvGgpaxUg"
      }
    },
    {
      "cell_type": "code",
      "source": [
        "# Your code here"
      ],
      "metadata": {
        "id": "hjb-sr07x-oi"
      },
      "execution_count": null,
      "outputs": []
    },
    {
      "cell_type": "markdown",
      "source": [
        "## Part B"
      ],
      "metadata": {
        "id": "4hg-5N4DbxCJ"
      }
    },
    {
      "cell_type": "markdown",
      "source": [
        "Justify the choice of encoding method for each attribute."
      ],
      "metadata": {
        "id": "J_bG4cywbzxp"
      }
    },
    {
      "cell_type": "markdown",
      "source": [
        ""
      ],
      "metadata": {
        "id": "OJxmsiFvyEQT"
      }
    },
    {
      "cell_type": "markdown",
      "source": [
        "# Question 2"
      ],
      "metadata": {
        "id": "xdu03t8CqadJ"
      }
    },
    {
      "cell_type": "markdown",
      "source": [
        "Detect the outliers in the `writing score` column in the StudentsPerformance dataset (https://raw.githubusercontent.com/raneemsultan/Quiz2-Template/main/StudentsPerformance.csv). What is the total number of outliers?"
      ],
      "metadata": {
        "id": "aCIBYXBVvIcn"
      }
    },
    {
      "cell_type": "code",
      "source": [
        "# Your code here"
      ],
      "metadata": {
        "id": "xlDNGoxgqZkk"
      },
      "execution_count": null,
      "outputs": []
    },
    {
      "cell_type": "markdown",
      "source": [
        "--------------------------------------------------"
      ],
      "metadata": {
        "id": "0XziLNDxyjgq"
      }
    },
    {
      "cell_type": "markdown",
      "source": [
        "# Do NOT forget to upload your solution to your quiz repo. Good luck!"
      ],
      "metadata": {
        "id": "41UgTY-nycdS"
      }
    }
  ]
}